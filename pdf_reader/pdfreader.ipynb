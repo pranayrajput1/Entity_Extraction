{
 "cells": [
  {
   "cell_type": "markdown",
   "id": "aa8c0a3f-898b-4acb-814d-d755d34d0fce",
   "metadata": {
    "tags": []
   },
   "source": [
    "# With tabula-py\n"
   ]
  },
  {
   "cell_type": "code",
   "execution_count": 2,
   "id": "927532d3-156a-4471-a823-ca436cfe3a4b",
   "metadata": {},
   "outputs": [
    {
     "name": "stdout",
     "output_type": "stream",
     "text": [
      "Requirement already satisfied: tabula-py in /home/knoldus/anaconda3/lib/python3.8/site-packages (2.3.0)\n",
      "Requirement already satisfied: pandas>=0.25.3 in /home/knoldus/.local/lib/python3.8/site-packages (from tabula-py) (1.3.3)\n",
      "Requirement already satisfied: numpy in /home/knoldus/.local/lib/python3.8/site-packages (from tabula-py) (1.21.2)\n",
      "Requirement already satisfied: distro in /home/knoldus/anaconda3/lib/python3.8/site-packages (from tabula-py) (1.6.0)\n",
      "Requirement already satisfied: python-dateutil>=2.7.3 in /home/knoldus/anaconda3/lib/python3.8/site-packages (from pandas>=0.25.3->tabula-py) (2.8.1)\n",
      "Requirement already satisfied: pytz>=2017.3 in /home/knoldus/anaconda3/lib/python3.8/site-packages (from pandas>=0.25.3->tabula-py) (2021.1)\n",
      "Requirement already satisfied: six>=1.5 in /home/knoldus/anaconda3/lib/python3.8/site-packages (from python-dateutil>=2.7.3->pandas>=0.25.3->tabula-py) (1.15.0)\n",
      "Requirement already satisfied: tabulate in /home/knoldus/anaconda3/lib/python3.8/site-packages (0.8.9)\n",
      "done installation\n"
     ]
    }
   ],
   "source": [
    "!pip install tabula-py\n",
    "!pip install tabulate\n",
    "print(\"done installation\")"
   ]
  },
  {
   "cell_type": "code",
   "execution_count": 3,
   "id": "04e96725-918d-40fb-92f0-9cffd3226fad",
   "metadata": {},
   "outputs": [],
   "source": [
    "import tabula\n",
    "from tabulate import tabulate\n",
    "import pandas as pd"
   ]
  },
  {
   "cell_type": "code",
   "execution_count": 32,
   "id": "41db95ae-5af7-490e-b67d-1617d68e3ed0",
   "metadata": {},
   "outputs": [],
   "source": [
    "loc1=\"45CANDIDATES.pdf\"\n",
    "loc2=\"FoodCaloriesList.pdf\"\n",
    "loc3=\"LOs_29102020.pdf\"\n",
    "loc4=\"08122021_113706.pdf\"\n",
    "loc5=\"scanned_example_1.pdf\"\n",
    "loc6=\"2016-10-03_1475473102.pdf\""
   ]
  },
  {
   "cell_type": "code",
   "execution_count": 33,
   "id": "e4417e90-1647-4207-a6ec-3cf7c425d874",
   "metadata": {},
   "outputs": [
    {
     "data": {
      "text/plain": [
       "[]"
      ]
     },
     "execution_count": 33,
     "metadata": {},
     "output_type": "execute_result"
    }
   ],
   "source": [
    "\n",
    "df = tabula.read_pdf(loc6, pages='1')\n",
    "df"
   ]
  },
  {
   "cell_type": "code",
   "execution_count": 7,
   "id": "20292bbe-8ada-4fce-8478-c44d768e797d",
   "metadata": {},
   "outputs": [
    {
     "name": "stdout",
     "output_type": "stream",
     "text": [
      "done\n"
     ]
    }
   ],
   "source": [
    "tabula.convert_into(loc1, \"output1.csv\", output_format=\"csv\", pages='all')\n",
    "tabula.convert_into(loc2, \"output2.csv\", output_format=\"csv\", pages='all')\n",
    "print(\"done\")"
   ]
  },
  {
   "cell_type": "code",
   "execution_count": 8,
   "id": "c90189e3-d9e6-4aeb-8eda-8c3b19ddd7fa",
   "metadata": {},
   "outputs": [],
   "source": [
    "# df = tabula.read_pdf(\"FoodCaloriesList.pdf\")\n",
    "# df = df.dropna(axis='columns')\n",
    "# df"
   ]
  },
  {
   "cell_type": "code",
   "execution_count": 9,
   "id": "4cea0b03-4dea-41ec-ac53-421aedaf2142",
   "metadata": {},
   "outputs": [],
   "source": [
    "# df = tabula.read_pdf(\"FoodCaloriesList.pdf\", pages=3)\n",
    "# print (tabulate(df))"
   ]
  },
  {
   "cell_type": "code",
   "execution_count": 10,
   "id": "57d1fcfd-a2e6-4bcc-88e9-8a217ba832c9",
   "metadata": {},
   "outputs": [],
   "source": [
    "# df = tabula.read_pdf(\"FoodCaloriesList.pdf\", pages=3, output_format=\"json\")\n",
    "# df"
   ]
  },
  {
   "cell_type": "code",
   "execution_count": 11,
   "id": "9443447f-f9d9-4900-b3d8-6e6de54a98fe",
   "metadata": {},
   "outputs": [
    {
     "name": "stderr",
     "output_type": "stream",
     "text": [
      "'pages' argument isn't specified.Will extract only from page 1 by default.\n"
     ]
    },
    {
     "data": {
      "text/plain": [
       "[              BREADS & CEREALS               Portion size *  \\\n",
       " 0          Bagel ( 1 average )               140 cals (45g)   \n",
       " 1           Biscuit digestives        86 cals (per biscuit)   \n",
       " 2                   Jaffa cake        48 cals (per biscuit)   \n",
       " 3    Bread white (thick slice)       96  cals (1 slice 40g)   \n",
       " 4      Bread wholemeal (thick)       88  cals (1 slice 40g)   \n",
       " 5                     Chapatis                     250 cals   \n",
       " 6                   Cornflakes              130  cals (35g)   \n",
       " 7                 Crackerbread            17 cals per slice   \n",
       " 8               Cream crackers        35 cals (per cracker)   \n",
       " 9                     Crumpets        93 cals (per crumpet)   \n",
       " 10   Flapjacks basic fruit mix                     320 cals   \n",
       " 11           Macaroni (boiled)              238 cals (250g)   \n",
       " 12                      Muesli              195  cals (50g)   \n",
       " 13         Naan bread (normal)  300 cals (small plate size)   \n",
       " 14            Noodles (boiled)              175 cals (250g)   \n",
       " 15     Pasta ( normal boiled )              330 cals (300g)   \n",
       " 16   Pasta (wholemeal boiled )              315 cals (300g)   \n",
       " 17  Porridge oats (with water)              193 cals (350g)   \n",
       " 18         Potatoes** (boiled)              210 cals (300g)   \n",
       " 19          Potatoes** (roast)              420 cals (300g)   \n",
       " \n",
       "    per 100 grams (3.5 oz)  Unnamed: 3 energy content  \n",
       " 0                310 cals         NaN         Medium  \n",
       " 1                480 cals         NaN           High  \n",
       " 2                370 cals         NaN       Med-High  \n",
       " 3                240 cals         NaN         Medium  \n",
       " 4                220 cals         NaN        Low-med  \n",
       " 5                300 cals         NaN         Medium  \n",
       " 6                370 cals         NaN       Med-High  \n",
       " 7                325 cals         NaN    Low Calorie  \n",
       " 8                440 cals         NaN  Low / portion  \n",
       " 9                198 cals         NaN        Low-Med  \n",
       " 10               500 cals         NaN           High  \n",
       " 11                95 cals         NaN    Low calorie  \n",
       " 12               390 cals         NaN       Med-high  \n",
       " 13               320 cals         NaN         Medium  \n",
       " 14                70 cals         NaN    Low calorie  \n",
       " 15               110 cals         NaN    Low calorie  \n",
       " 16               105 cals         NaN    Low calorie  \n",
       " 17                55 cals         NaN    Low calorie  \n",
       " 18                70 cals         NaN    Low calorie  \n",
       " 19               140 cals         NaN         Medium  ]"
      ]
     },
     "execution_count": 11,
     "metadata": {},
     "output_type": "execute_result"
    }
   ],
   "source": [
    "df = tabula.read_pdf(\"FoodCaloriesList.pdf\",  multiple_tables= False)\n",
    "df"
   ]
  },
  {
   "cell_type": "code",
   "execution_count": 12,
   "id": "4bd83aad-fc90-4d66-afc7-0d89a5c49c8c",
   "metadata": {},
   "outputs": [],
   "source": [
    "# df = tabula.read_pdf(\"FoodCaloriesList.pdf\", encoding = 'ISO-8859-1',\n",
    "#          stream=True, area = [269.875, 12.75, 790.5, 961], pages = 4, guess = False,  pandas_options={'header':None})\n",
    "# df"
   ]
  },
  {
   "cell_type": "code",
   "execution_count": 13,
   "id": "5a6b5656-dfe4-45c3-9be7-4d0ef7678fea",
   "metadata": {},
   "outputs": [
    {
     "name": "stdout",
     "output_type": "stream",
     "text": [
      "Requirement already satisfied: camelot-py[all] in /home/knoldus/anaconda3/lib/python3.8/site-packages (0.10.1)\n",
      "Requirement already satisfied: pdfminer.six>=20200726 in /home/knoldus/anaconda3/lib/python3.8/site-packages (from camelot-py[all]) (20211012)\n",
      "Requirement already satisfied: numpy>=1.13.3 in /home/knoldus/.local/lib/python3.8/site-packages (from camelot-py[all]) (1.21.2)\n",
      "Requirement already satisfied: click>=6.7 in /home/knoldus/anaconda3/lib/python3.8/site-packages (from camelot-py[all]) (7.1.2)\n",
      "Requirement already satisfied: openpyxl>=2.5.8 in /home/knoldus/.local/lib/python3.8/site-packages (from camelot-py[all]) (3.0.9)\n",
      "Requirement already satisfied: pandas>=0.23.4 in /home/knoldus/.local/lib/python3.8/site-packages (from camelot-py[all]) (1.3.3)\n",
      "Requirement already satisfied: tabulate>=0.8.9 in /home/knoldus/anaconda3/lib/python3.8/site-packages (from camelot-py[all]) (0.8.9)\n",
      "Requirement already satisfied: chardet>=3.0.4 in /home/knoldus/anaconda3/lib/python3.8/site-packages (from camelot-py[all]) (4.0.0)\n",
      "Requirement already satisfied: PyPDF2>=1.26.0 in /home/knoldus/anaconda3/lib/python3.8/site-packages (from camelot-py[all]) (1.26.0)\n",
      "Requirement already satisfied: matplotlib>=2.2.3 in /home/knoldus/.local/lib/python3.8/site-packages (from camelot-py[all]) (3.4.3)\n",
      "Requirement already satisfied: ghostscript>=0.7 in /home/knoldus/anaconda3/lib/python3.8/site-packages (from camelot-py[all]) (0.7)\n",
      "Requirement already satisfied: pdftopng>=0.2.3 in /home/knoldus/anaconda3/lib/python3.8/site-packages (from camelot-py[all]) (0.2.3)\n",
      "Requirement already satisfied: opencv-python>=3.4.2.17 in /home/knoldus/anaconda3/lib/python3.8/site-packages (from camelot-py[all]) (4.5.4.60)\n",
      "Requirement already satisfied: setuptools>=38.6.0 in /home/knoldus/anaconda3/lib/python3.8/site-packages (from ghostscript>=0.7->camelot-py[all]) (52.0.0.post20210125)\n",
      "Requirement already satisfied: pillow>=6.2.0 in /home/knoldus/anaconda3/lib/python3.8/site-packages (from matplotlib>=2.2.3->camelot-py[all]) (8.2.0)\n",
      "Requirement already satisfied: kiwisolver>=1.0.1 in /home/knoldus/.local/lib/python3.8/site-packages (from matplotlib>=2.2.3->camelot-py[all]) (1.3.2)\n",
      "Requirement already satisfied: pyparsing>=2.2.1 in /home/knoldus/.local/lib/python3.8/site-packages (from matplotlib>=2.2.3->camelot-py[all]) (2.4.7)\n",
      "Requirement already satisfied: python-dateutil>=2.7 in /home/knoldus/anaconda3/lib/python3.8/site-packages (from matplotlib>=2.2.3->camelot-py[all]) (2.8.1)\n",
      "Requirement already satisfied: cycler>=0.10 in /home/knoldus/.local/lib/python3.8/site-packages (from matplotlib>=2.2.3->camelot-py[all]) (0.10.0)\n",
      "Requirement already satisfied: et-xmlfile in /home/knoldus/.local/lib/python3.8/site-packages (from openpyxl>=2.5.8->camelot-py[all]) (1.1.0)\n",
      "Requirement already satisfied: pytz>=2017.3 in /home/knoldus/anaconda3/lib/python3.8/site-packages (from pandas>=0.23.4->camelot-py[all]) (2021.1)\n",
      "Requirement already satisfied: cryptography in /home/knoldus/anaconda3/lib/python3.8/site-packages (from pdfminer.six>=20200726->camelot-py[all]) (3.4.7)\n",
      "Requirement already satisfied: six in /home/knoldus/anaconda3/lib/python3.8/site-packages (from cycler>=0.10->matplotlib>=2.2.3->camelot-py[all]) (1.15.0)\n",
      "Requirement already satisfied: cffi>=1.12 in /home/knoldus/.local/lib/python3.8/site-packages (from cryptography->pdfminer.six>=20200726->camelot-py[all]) (1.15.0)\n",
      "Requirement already satisfied: pycparser in /home/knoldus/.local/lib/python3.8/site-packages (from cffi>=1.12->cryptography->pdfminer.six>=20200726->camelot-py[all]) (2.20)\n"
     ]
    }
   ],
   "source": [
    "!pip install camelot-py[all]\n",
    "\n",
    "\n"
   ]
  },
  {
   "cell_type": "code",
   "execution_count": 14,
   "id": "dd477c0b-baa1-4004-97b9-42d9367d7576",
   "metadata": {},
   "outputs": [],
   "source": [
    "import camelot\n"
   ]
  },
  {
   "cell_type": "code",
   "execution_count": 23,
   "id": "98679b61-ab28-44f9-b3fe-c6da7cdf96cd",
   "metadata": {},
   "outputs": [
    {
     "name": "stderr",
     "output_type": "stream",
     "text": [
      "UserWarning: page-1 is image-based, camelot only works on text-based pages. [lattice.py:411]\n"
     ]
    },
    {
     "data": {
      "text/plain": [
       "<TableList n=0>"
      ]
     },
     "execution_count": 23,
     "metadata": {},
     "output_type": "execute_result"
    }
   ],
   "source": [
    "tables = camelot.read_pdf(loc4)\n",
    "tables"
   ]
  },
  {
   "cell_type": "code",
   "execution_count": 16,
   "id": "1b373819-511c-41a3-a501-eff293d4e5e8",
   "metadata": {},
   "outputs": [
    {
     "name": "stdout",
     "output_type": "stream",
     "text": [
      "--  --------------------------  ---------------------------  --------  -------------\n",
      " 0  per 100 grams\n",
      "    BREADS & CEREALS\n",
      "    Portion size *\n",
      "    energy content\n",
      "    (3.5 oz)\n",
      " 1  Bagel ( 1 average )         140 cals (45g)               310 cals  Medium\n",
      " 2  Biscuit digestives          86 cals (per biscuit)        480 cals  High\n",
      " 3  Jaffa cake                  48 cals (per biscuit)        370 cals  Med-High\n",
      " 4  Bread white (thick slice)   96  cals (1 slice 40g)       240 cals  Medium\n",
      " 5  Bread wholemeal (thick)     88  cals (1 slice 40g)       220 cals  Low-med\n",
      " 6  Chapatis                    250 cals                     300 cals  Medium\n",
      " 7  Cornflakes                  130  cals (35g)              370 cals  Med-High\n",
      " 8  Crackerbread                17 cals per slice            325 cals  Low Calorie\n",
      " 9  Cream crackers              35 cals (per cracker)        440 cals  Low / portion\n",
      "10  Crumpets                    93 cals (per crumpet)        198 cals  Low-Med\n",
      "11  Flapjacks basic fruit mix   320 cals                     500 cals  High\n",
      "12  Macaroni (boiled)           238 cals (250g)              95 cals   Low calorie\n",
      "13  Muesli                      195  cals (50g)              390 cals  Med-high\n",
      "14  Naan bread (normal)         300 cals (small plate size)  320 cals  Medium\n",
      "15  Noodles (boiled)            175 cals (250g)              70 cals   Low calorie\n",
      "16  Pasta ( normal boiled )     330 cals (300g)              110 cals  Low calorie\n",
      "17  Pasta (wholemeal boiled )   315 cals (300g)              105 cals  Low calorie\n",
      "18  Porridge oats (with water)  193 cals (350g)              55 cals   Low calorie\n",
      "19  Potatoes** (boiled)         210 cals (300g)              70 cals   Low calorie\n",
      "20  Potatoes** (roast)          420 cals (300g)              140 cals  Medium\n",
      "--  --------------------------  ---------------------------  --------  -------------\n"
     ]
    }
   ],
   "source": [
    "tables1 = camelot.read_pdf(\"FoodCaloriesList.pdf\", pages='all', area=[269.875, 120.75, 790.5, 561])\n",
    "print (tabulate(tables1[0].df))"
   ]
  },
  {
   "cell_type": "code",
   "execution_count": 17,
   "id": "b7a50eb4-e43a-44b3-abff-b990d59fde97",
   "metadata": {},
   "outputs": [
    {
     "name": "stdout",
     "output_type": "stream",
     "text": [
      "1\n",
      "--  --------------------------  ---------------------------  --------  -------------\n",
      " 0  per 100 grams\n",
      "    BREADS & CEREALS\n",
      "    Portion size *\n",
      "    energy content\n",
      "    (3.5 oz)\n",
      " 1  Bagel ( 1 average )         140 cals (45g)               310 cals  Medium\n",
      " 2  Biscuit digestives          86 cals (per biscuit)        480 cals  High\n",
      " 3  Jaffa cake                  48 cals (per biscuit)        370 cals  Med-High\n",
      " 4  Bread white (thick slice)   96  cals (1 slice 40g)       240 cals  Medium\n",
      " 5  Bread wholemeal (thick)     88  cals (1 slice 40g)       220 cals  Low-med\n",
      " 6  Chapatis                    250 cals                     300 cals  Medium\n",
      " 7  Cornflakes                  130  cals (35g)              370 cals  Med-High\n",
      " 8  Crackerbread                17 cals per slice            325 cals  Low Calorie\n",
      " 9  Cream crackers              35 cals (per cracker)        440 cals  Low / portion\n",
      "10  Crumpets                    93 cals (per crumpet)        198 cals  Low-Med\n",
      "11  Flapjacks basic fruit mix   320 cals                     500 cals  High\n",
      "12  Macaroni (boiled)           238 cals (250g)              95 cals   Low calorie\n",
      "13  Muesli                      195  cals (50g)              390 cals  Med-high\n",
      "14  Naan bread (normal)         300 cals (small plate size)  320 cals  Medium\n",
      "15  Noodles (boiled)            175 cals (250g)              70 cals   Low calorie\n",
      "16  Pasta ( normal boiled )     330 cals (300g)              110 cals  Low calorie\n",
      "17  Pasta (wholemeal boiled )   315 cals (300g)              105 cals  Low calorie\n",
      "18  Porridge oats (with water)  193 cals (350g)              55 cals   Low calorie\n",
      "19  Potatoes** (boiled)         210 cals (300g)              70 cals   Low calorie\n",
      "20  Potatoes** (roast)          420 cals (300g)              140 cals  Medium\n",
      "--  --------------------------  ---------------------------  --------  -------------\n",
      "NOK\n",
      "2\n",
      "-  --------------------  -----------------  --------  ---------------\n",
      "0  Rice (white boiled)   420 cals (300g)    140 cals  Low calorie\n",
      "1  Rice (egg-fried)      500 cals           200 cals  High in portion\n",
      "2  Rice ( Brown )        405 cals (300g)    135 cals  Low calorie\n",
      "3  Rice cakes            28 Cals = 1 slice  373 Cals  Medium\n",
      "4  Ryvita Multi grain    37 Cals per slice  331 Cals  Medium\n",
      "5  Ryvita + seed & Oats  180 Cals 4 slices  362 Cals  Medium\n",
      "6  Spaghetti (boiled)    303 cals (300g)    101 cals  Low calorie\n",
      "-  --------------------  -----------------  --------  ---------------\n",
      "--  ---------------------  --------------------  --------  -----------\n",
      " 0  per 100 grams\n",
      "    Meats & Fish\n",
      "    Portion size *\n",
      "    energy content\n",
      "    (3.5 oz)\n",
      " 1  Anchovies tinned       300 cals              300 cals  Medium\n",
      " 2  Bacon average fried    250 cals (2 rashers)  500 cals  High\n",
      " 3  Bacon average grilled  150 cals              380 cals  Med-High\n",
      " 4  Beef (roast)           300 cals              280 cals  Medium\n",
      " 5  Beef burgers frozen    320 cals              280 cals  Med-High\n",
      " 6  Chicken                220 cals              200 cals  Medium\n",
      " 7  Cockles                50 cals               50 cals   Low\n",
      " 8  Cod fresh              150 cals              100 cals  Low calorie\n",
      " 9  Cod chip shop food     400 cals              200 cals  Med-High\n",
      "10  Crab fresh             200 cals              110 cals  low calorie\n",
      "11  Duck roast             400 cals              430 cals  High\n",
      "--  ---------------------  --------------------  --------  -----------\n",
      "3\n",
      "--  ------------------------  -----------------  --------  -----------\n",
      " 0  Fish cake                 90 cals per cake   200 cals  Medium\n",
      " 1  Fish fingers              50 cals per piece  220 cals  Medium\n",
      " 2  Gammon                    320 cals           280 cals  Med-High\n",
      " 3  Haddock fresh             200 cals           110 cals  Low calorie\n",
      " 4  Halibut fresh             220 cals           125 cals  Low calorie\n",
      " 5  Ham                       6 cals             240 cals  Medium\n",
      " 6  Herring fresh grilled     300 cals           200 cals  Medium\n",
      " 7  Kidney                    200 cals           160 cals  Medium\n",
      " 8  Kipper                    200 cals           120 cals  Low calorie\n",
      " 9  Liver                     200 cals           150 cals  Medium\n",
      "10  Liver pate                150 cals           300 cals  Medium\n",
      "11  Lamb (roast)              300 cals           300 cals  Med-High\n",
      "12  Lobster boiled            200 cals           100 cals  Low calorie\n",
      "13  Luncheon meat             300 cals           400 cals  High\n",
      "14  Mackeral                  320 cals           300 cals  Medium\n",
      "15  Mussels                   90 cals            90 cals   Low-Med\n",
      "16  Pheasant roast            200 cals           200 cals  Medium\n",
      "17  Pilchards (tinned)        140 cals           140 cals  Medium\n",
      "18  Prawns                    180 cals           100 cals  Low- Med\n",
      "19  Pork                      320 cals           290 cals  Med-High\n",
      "20  Pork pie                  320 cals           450 cals  High\n",
      "21  Rabbit                    200 cals           180 cals  Medium\n",
      "22  Salmon fresh              220 cals           180 cals  Medium\n",
      "23  Sardines tinned in oil    220 cals           220 cals  Medium\n",
      "24  Sardines in tomato sauce  180 cals           180 cals  Medium\n",
      "25  Sausage pork fried        250 cals           320 cals  High\n",
      "26  Sausage pork grilled      220 cals           280 cals  Med-High\n",
      "27  Sausage roll              290 cals           480 cals  High\n",
      "28  Scampi fried in oil       400 cals           340 cals  High\n",
      "29  Steak & kidney pie        400 cals           350 cals  High\n",
      "--  ------------------------  -----------------  --------  -----------\n",
      "NOK\n",
      "4\n",
      "-  -----------------  --------  --------  -----------\n",
      "0  Taramasalata       130 cals  490 cals  High\n",
      "1  Trout fresh        200 cals  120 cals  Low calorie\n",
      "2  Tuna tinned water  100 cals  100 cals  Low calorie\n",
      "3  Tuna tinned oil    180 cals  180 cals  Medium\n",
      "4  Turkey             200 cals  160 cals  Medium\n",
      "5  Veal               300 cals  240 cals  Medium\n",
      "-  -----------------  --------  --------  -----------\n",
      "--  --------------------  ------------  ------------  ------------\n",
      " 0  per 100 grams (3.5\n",
      "    Fruits & Vegetables\n",
      "    Portion size *\n",
      "    energy content\n",
      "    oz)\n",
      " 1  Apple                 44 calories   44 calories   Low calorie\n",
      " 2  Banana                107 cals      65 calories   Low calorie\n",
      " 3  Beans baked beans     170 cals      80 calories   Low calorie\n",
      " 4  Beans dried (boiled)  180 cals      130 calories  Low calorie\n",
      " 5  Blackberries          25 cals       25 calories   Low calorie\n",
      " 6  Blackcurrant          30 cals       30 calories   Low calorie\n",
      " 7  Broccoli              27 cals       32 cals       Very low\n",
      " 8  Cabbage (boiled)      15 calories   20 calories   Low calorie\n",
      " 9  Carrot (boiled)       16 calories   25 calories   Low calorie\n",
      "10  Cauliflower (boiled)  20 calories   30 calories   Low calorie\n",
      "11  Celery (boiled)       5 calories    10 calories   Low calorie\n",
      "12  Cherry                35 calories   50 calories   Low calorie\n",
      "13  Courgette             8 cals        20 cals       Very low cal\n",
      "14  Cucumber              3 calories    10 calories   Low calorie\n",
      "15  Dates                 100 calories  235 calories  Med-High\n",
      "16  Grapes                55 calories   62 calories   Low calorie\n",
      "17  Grapefruit            32 calories   32 calories   Low calorie\n",
      "18  Kiwi                  40 calories   50 calories   Low calorie\n",
      "19  Leek (boiled)         10 calories   20 calories   Low calorie\n",
      "--  --------------------  ------------  ------------  ------------\n"
     ]
    }
   ],
   "source": [
    "for i in range(1,5):\n",
    "    print (i)\n",
    "    tables = camelot.read_pdf(\"FoodCaloriesList.pdf\", pages='%d' %  i)\n",
    "    try:\n",
    "        print (tabulate(tables[0].df))\n",
    "        print (tabulate(tables[1].df))\n",
    "    except IndexError:\n",
    "        print('NOK')"
   ]
  },
  {
   "cell_type": "code",
   "execution_count": 18,
   "id": "d3a10eae-0a61-4867-91b7-c3380af66ca6",
   "metadata": {},
   "outputs": [
    {
     "name": "stdout",
     "output_type": "stream",
     "text": [
      "Requirement already satisfied: PyPDF2 in /home/knoldus/anaconda3/lib/python3.8/site-packages (1.26.0)\n"
     ]
    }
   ],
   "source": [
    "!pip install PyPDF2\n",
    "\n"
   ]
  },
  {
   "cell_type": "code",
   "execution_count": 26,
   "id": "9d0ad899-4eb9-4227-9a9a-c2d332718699",
   "metadata": {},
   "outputs": [
    {
     "name": "stdout",
     "output_type": "stream",
     "text": [
      " Rice (white boiled)\n",
      " 420 cals (300g)\n",
      " 140 cals\n",
      " Low calorie\n",
      " Rice (egg\n",
      "-fried)\n",
      " 500 cals\n",
      " 200 cals\n",
      " High in portion\n",
      " Rice ( Brown )\n",
      " 405 cals (300g)\n",
      " 135 cals\n",
      " Low calorie\n",
      " Rice cakes\n",
      " 28 Cals = 1 slice\n",
      " 373 Cals\n",
      " Medium\n",
      " Ryvita Multi grain\n",
      " 37 Cals per slice\n",
      " 331 Cals\n",
      " Medium\n",
      " Ryvita + seed & Oats\n",
      " 180 Cals 4 slices\n",
      " 362 Cals\n",
      " Medium\n",
      " Spaghetti (boiled)\n",
      " 303 cals (300g)\n",
      " 101 cals\n",
      " Low calorie\n",
      "     *  Portion sizes will vary depending on the type and make of product purchased. Portion size is very \n",
      "often a subjective view a\n",
      "nd may again vary according to bowl, cup or plate size used.\n",
      " ** Potatoes are vegetables but listed here because they form a staple part of many \n",
      "meals\n",
      ". See \n",
      "a \n",
      "balanced diet\n",
      " section.\n",
      " NB. The food calories list shows products in alphabetical order. \n",
      " Most natural foods are calculated in tests and specific product values are calculated from their \n",
      "ingredients list o\n",
      "r from manufacturers information. Some values may not be accurate and should only \n",
      "be used for general comparison purposes.\n",
      "   Meats & Fish\n",
      " Portion size *\n",
      " per 100 grams \n",
      "(3.5 oz)\n",
      " energy content\n",
      " Anchovies tinned\n",
      " 300 cals\n",
      " 300 cals\n",
      " Medium\n",
      " Bacon average fried\n",
      " 250 cals (2 rashers)\n",
      " 500 cals\n",
      " High\n",
      " Bacon average grilled\n",
      " 150 cals\n",
      " 380 cals\n",
      " Med\n",
      "-High\n",
      " Beef (roast)\n",
      " 300 cals\n",
      " 280 cals\n",
      " Medium\n",
      " Beef burgers frozen\n",
      " 320 cals\n",
      " 280 cals\n",
      " Med\n",
      "-High\n",
      " Chicken\n",
      " 220 cals\n",
      " 200 cals\n",
      " Medium\n",
      " Cockles \n",
      " 50 cals\n",
      " 50 cals\n",
      " Low\n",
      " Cod fresh\n",
      " 150 cals\n",
      " 100 cals\n",
      " Low calorie\n",
      " Cod chip shop food\n",
      " 400 cals\n",
      " 200 cals\n",
      " Med\n",
      "-High\n",
      " Crab fresh\n",
      " 200 cals\n",
      " 110 cals\n",
      " low calorie\n",
      " Duck roast\n",
      " 400 cals\n",
      " 430 cals\n",
      " High\n",
      " \n"
     ]
    },
    {
     "name": "stderr",
     "output_type": "stream",
     "text": [
      "PdfReadWarning: Xref table not zero-indexed. ID numbers for objects will be corrected. [pdf.py:1736]\n"
     ]
    }
   ],
   "source": [
    "import PyPDF2\n",
    "pdf_file = open(\"FoodCaloriesList.pdf\", 'rb')\n",
    "read_pdf = PyPDF2.PdfFileReader(pdf_file)\n",
    "number_of_pages = read_pdf.getNumPages()\n",
    "page = read_pdf.getPage(1)\n",
    "page_content = page.extractText()\n",
    "print (page_content)\n"
   ]
  },
  {
   "cell_type": "code",
   "execution_count": 27,
   "id": "158b2e6e-c758-4116-8a1f-5a5887bf9a55",
   "metadata": {},
   "outputs": [
    {
     "name": "stdout",
     "output_type": "stream",
     "text": [
      "[' Rice (white boiled)' ' 420 cals (300g)' ' 140 cals' ' Low calorie']\n",
      "[' Rice (egg' '-fried)' ' 500 cals' ' 200 cals']\n",
      "[' High in portion' ' Rice ( Brown )' ' 405 cals (300g)' ' 135 cals']\n",
      "[' Low calorie' ' Rice cakes' ' 28 Cals = 1 slice' ' 373 Cals']\n",
      "[' Medium' ' Ryvita Multi grain' ' 37 Cals per slice' ' 331 Cals']\n"
     ]
    }
   ],
   "source": [
    "import numpy\n",
    "\n",
    "table_list = page_content.split('\\n')\n",
    "l = numpy.array_split(table_list, len(table_list)/4)\n",
    "for i in range(0,5):\n",
    "    print(l[i])"
   ]
  },
  {
   "cell_type": "code",
   "execution_count": null,
   "id": "dc53cf4d-ea33-405b-b362-fde258e29b33",
   "metadata": {},
   "outputs": [],
   "source": []
  },
  {
   "cell_type": "code",
   "execution_count": null,
   "id": "32aa18bd-5682-4dbd-a683-345fc92462a2",
   "metadata": {},
   "outputs": [],
   "source": []
  },
  {
   "cell_type": "code",
   "execution_count": null,
   "id": "1803a80f-7a2f-49c1-9ee6-e4fb46634f9f",
   "metadata": {},
   "outputs": [],
   "source": []
  }
 ],
 "metadata": {
  "kernelspec": {
   "display_name": "Python 3 (ipykernel)",
   "language": "python",
   "name": "python3"
  },
  "language_info": {
   "codemirror_mode": {
    "name": "ipython",
    "version": 3
   },
   "file_extension": ".py",
   "mimetype": "text/x-python",
   "name": "python",
   "nbconvert_exporter": "python",
   "pygments_lexer": "ipython3",
   "version": "3.8.8"
  }
 },
 "nbformat": 4,
 "nbformat_minor": 5
}
